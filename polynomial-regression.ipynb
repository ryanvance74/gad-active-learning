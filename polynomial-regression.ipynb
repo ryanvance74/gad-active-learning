{
 "cells": [
  {
   "cell_type": "code",
   "execution_count": null,
   "metadata": {},
   "outputs": [],
   "source": [
    "import numpy as np\n",
    "import matplotlib.pyplot as plt\n",
    "import random\n",
    "from numpy.polynomial import Polynomial\n"
   ]
  },
  {
   "cell_type": "code",
   "execution_count": null,
   "metadata": {},
   "outputs": [],
   "source": [
    "f = Polynomial.fromroots([-0.85, -0.05, -0.05, -0.05, 0.09, 0.19, 0.4, 0.8],domain=[-1,1])"
   ]
  },
  {
   "cell_type": "code",
   "execution_count": null,
   "metadata": {},
   "outputs": [],
   "source": [
    "x_vec_all = np.linspace(-1,1,100)\n",
    "y_vec_all = f(x_vec_all) + np.random.normal(0,0.05,len(x_vec_all))\n",
    "all_points = list(zip(x_vec_all, y_vec_all))\n",
    "sample_points = np.array(random.sample(list(all_points),10))\n",
    "x_vec_samp = [p[0] for p in sample_points]\n",
    "y_vec_samp = [p[1] for p in sample_points]"
   ]
  },
  {
   "cell_type": "code",
   "execution_count": null,
   "metadata": {},
   "outputs": [],
   "source": [
    "def poly_regr(ax, vander_poly_size):\n",
    "   \n",
    "    vander_mat = np.vander(x_vec_samp, N=vander_poly_size, increasing=True)\n",
    "    vander_mat_inv = np.linalg.pinv(vander_mat)\n",
    "    theta_vec = np.matmul(vander_mat_inv, y_vec_samp)\n",
    "    y_hat_vec = np.polyval(theta_vec[::-1], x_vec_all)\n",
    "    ax.scatter(x_vec_all, y_vec_all, alpha=0.2)\n",
    "    ax.scatter(x_vec_all, y_hat_vec, c='red', alpha=0.8)\n",
    "    ax.set_title(f'n={vander_poly_size}', fontsize=10)\n",
    "    # ax.title(f\"n={vander_poly_size}\")\n",
    "    ax.grid(True)\n",
    "    risk = np.linalg.norm(y_vec_all-y_hat_vec)/len(y_vec_all)\n",
    "\n",
    "    return risk\n"
   ]
  },
  {
   "cell_type": "code",
   "execution_count": null,
   "metadata": {},
   "outputs": [],
   "source": [
    "np.random.seed(8573)\n",
    "rows = 25\n",
    "cols = 4\n",
    "fig, axes = plt.subplots(rows, cols, figsize=(cols * 2.5, rows * 2.5), constrained_layout=True)\n",
    "axes = axes.flatten()\n",
    "risks = []\n",
    "for n in range(1,100):\n",
    "    \n",
    "    risk = poly_regr(axes[n-1],n)\n",
    "    risks.append(risk)\n",
    "fig.suptitle('Polynomial Model Fits by Degree', fontsize=16)\n",
    "\n",
    "plt.savefig(\"all_polynomial_fits_grid.png\", dpi=300, bbox_inches='tight')\n",
    "plt.close()\n",
    "plt.plot(risks)\n",
    "\n",
    "plt.title(\"Risk Over Degree of Polynomials in Vandermonde Matrix\")\n",
    "plt.xlabel(\"Degree of Polynomial in Vandermonde Matrix Rows\")\n",
    "plt.ylabel(\"MSE\")\n",
    "plt.savefig(\"risk_plot\")\n",
    "plt.show()"
   ]
  }
 ],
 "metadata": {
  "kernelspec": {
   "display_name": "base",
   "language": "python",
   "name": "python3"
  },
  "language_info": {
   "codemirror_mode": {
    "name": "ipython",
    "version": 3
   },
   "file_extension": ".py",
   "mimetype": "text/x-python",
   "name": "python",
   "nbconvert_exporter": "python",
   "pygments_lexer": "ipython3",
   "version": "3.12.2"
  }
 },
 "nbformat": 4,
 "nbformat_minor": 2
}
