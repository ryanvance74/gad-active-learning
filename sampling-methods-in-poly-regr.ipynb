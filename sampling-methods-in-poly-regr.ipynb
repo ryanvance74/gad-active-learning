{
 "cells": [
  {
   "cell_type": "code",
   "execution_count": null,
   "metadata": {},
   "outputs": [],
   "source": [
    "import numpy as np\n",
    "import pandas as pd\n",
    "import matplotlib.pyplot as plt\n",
    "import matplotlib.animation as animation\n",
    "from numpy.linalg import norm as norm \n",
    "from numpy.linalg import pinv\n",
    "from collections import Counter\n",
    "\n",
    " \n",
    "from sklearn.preprocessing import PolynomialFeatures\n",
    "from numpy.polynomial import chebyshev as cheb\n",
    "\n",
    "from tqdm import tqdm \n",
    "import time"
   ]
  },
  {
   "cell_type": "code",
   "execution_count": null,
   "metadata": {},
   "outputs": [],
   "source": [
    "\n",
    "X = np.linspace(-1., 1., 1001)\n",
    "k = 100\n",
    "nk = 2*(k+1)\n",
    "M = cheb.chebvander(X, deg=nk)\n",
    "\n",
    "obs_set = np.arange(k+1)\n",
    "rand_state = np.random.RandomState(10)\n",
    "\n",
    "# try ctrue zero everywhere in unmodeled space\n",
    "# try having only a few in modeled be non-zero\n",
    "# try random in unmodeled. vary size of values\n",
    "# sparse in the whole thing but have a few in unmodeled have extra non-zeros\n",
    "ctrue = np.zeros(nk+1)\n",
    "ctrue[2*k ] = 1.5\n",
    "# ctrue[2*k+1] = 1.0\n",
    "ctrue[1] = 0.5\n",
    "ctrue += rand_state.randn(ctrue.size)\n",
    "\n",
    "f = np.array(M @ ctrue)\n",
    "\n",
    "chat_true = np.zeros_like(ctrue)\n",
    "sol = np.linalg.lstsq(M[:,obs_set], f, rcond=None)\n",
    "chat_true[obs_set] = sol[0]\n",
    "nstart = 5\n",
    "max_samples = 200"
   ]
  },
  {
   "cell_type": "code",
   "execution_count": null,
   "metadata": {},
   "outputs": [],
   "source": [
    "basis_idx = np.arange(ctrue.size)\n",
    "\n",
    "def run_simulation(samples, probs=None, nstart=5):\n",
    "    start_time = time.time()\n",
    "    if probs is None:\n",
    "        probs = np.ones_like(samples, dtype=float)\n",
    "\n",
    "    assert probs.size == samples.size\n",
    "\n",
    "    res = {'chat':[], 'errs':[], 'A_norm':[], 'MTMinv_norm':[], 'runtime':[]}\n",
    "    T = samples[:nstart]\n",
    "\n",
    "    for i in range(samples.size - nstart+1):\n",
    "        MTM = M[np.ix_(T,obs_set)]\n",
    "        \n",
    "        MTU = M[np.ix_(T,np.delete(np.arange(M.shape[1]), obs_set))]\n",
    "        probsi = np.sqrt(probs[:nstart+i]*(nstart+i))\n",
    "\n",
    "        y = M[T,:] @ ctrue \n",
    "        sol = np.linalg.lstsq(MTM/probsi.reshape(-1, 1), y/probsi, rcond=None)\n",
    "        chat = np.zeros_like(ctrue, dtype=float)\n",
    "        chat[obs_set] = sol[0]\n",
    "        res['chat'].append(chat) \n",
    "        res['errs'].append(np.linalg.norm(M@(ctrue - chat)))\n",
    "        \n",
    "        try: \n",
    "            Minv = pinv(MTM)\n",
    "            res['MTMinv_norm'].append(norm(Minv,ord=2))\n",
    "            res['A_norm'].append(norm(Minv @ MTU, ord=2))\n",
    "\n",
    "        except np.linalg.LinAlgError:\n",
    "            res['MTMinv_norm'].append(np.nan)\n",
    "            res['A_norm'].append(np.nan)\n",
    "        res['runtime'].append(time.time() - start_time)\n",
    "        T = samples[:nstart+i+1]        \n",
    "    return res \n",
    "\n",
    "\n",
    "def run_simulation_nodes(ntotal, nstart=5, snap_to_grid=False):\n",
    "    start_time = time.time()\n",
    "    Tx = cheb.chebpts2(nstart)\n",
    "    if snap_to_grid:\n",
    "        N = int(1 / (1-np.cos(np.pi / nstart)) + 1)\n",
    "        grid = np.linspace(-1,1,N)\n",
    "        Tx = np.array([grid[np.argmin(np.abs(grid - x))] for x in Tx])\n",
    "\n",
    "    res = {'chat':[], 'errs':[], 'A_norm':[], 'MTMinv_norm':[], 'runtime':[]}\n",
    "    \n",
    "    \n",
    "    for i in range(ntotal - nstart):\n",
    "        M_ = cheb.chebvander(Tx, deg=nk)\n",
    "        MTM = M_[:,obs_set]\n",
    "\n",
    "        MTU = M_[:,np.delete(np.arange(M_.shape[1]), obs_set)]\n",
    "        y = M_ @ ctrue\n",
    "        sol = np.linalg.lstsq(MTM, y, rcond=None)\n",
    "        chat = np.zeros_like(ctrue, dtype=float)\n",
    "        chat[obs_set] = sol[0]\n",
    "        res['chat'].append(chat) \n",
    "        res['errs'].append(np.linalg.norm(M@(chat_true - chat)))\n",
    "        \n",
    "        try: \n",
    "            Minv = pinv(MTM)\n",
    "            res['MTMinv_norm'].append(norm(Minv,ord=2))\n",
    "            res['A_norm'].append(norm(Minv @ MTU, ord=2))\n",
    "\n",
    "        except np.linalg.LinAlgError:\n",
    "            res['MTMinv_norm'].append(np.nan)\n",
    "            res['A_norm'].append(np.nan)\n",
    "\n",
    "        Tx = cheb.chebpts2(nstart+i+1)\n",
    "        if snap_to_grid:\n",
    "            N = int(1 / (1-np.cos(np.pi / nstart)) + 1)\n",
    "            grid = np.linspace(-1,1,N)\n",
    "            Tx = np.array([grid[np.argmin(np.abs(grid - x))] for x in Tx])\n",
    "        res['runtime'].append(time.time() - start_time)    \n",
    "    return res \n",
    "\n",
    "import numpy as np\n",
    "from numpy.linalg import norm, pinv\n",
    "import numpy.polynomial.chebyshev as cheb\n",
    "    "
   ]
  },
  {
   "cell_type": "code",
   "execution_count": null,
   "metadata": {},
   "outputs": [],
   "source": [
    "def run_simulation_nodes_incremental(ntotal, nstart=5):\n",
    "    start_time = time.time()\n",
    "    pts = cheb.chebpts2(ntotal)\n",
    "\n",
    "    N = int(1 / (1-np.cos(np.pi / ntotal)) + 1) \n",
    "    print(N)\n",
    "    grid = np.linspace(-1,1,N)\n",
    "    chebyshev_grid = np.array([grid[np.argmin(np.abs(grid - x))] for x in pts])\n",
    "\n",
    "    # print(f\"Counts of all numbers: {dict(Counter(chebyshev_grid))}\")\n",
    "    random_state = np.random.RandomState(19)\n",
    "    sample = random_state.choice(chebyshev_grid, ntotal, replace=True)\n",
    "    \n",
    "    res = {'chat':[], 'errs':[], 'A_norm':[], 'MTMinv_norm':[], 'runtime':[]}\n",
    "    Tx = sample[:nstart]\n",
    "    for i in range(ntotal - nstart + 1):\n",
    "        M_ = cheb.chebvander(Tx, deg=nk)\n",
    "        MTM = M_[:,obs_set]\n",
    "\n",
    "        MTU = M_[:,np.delete(np.arange(M_.shape[1]), obs_set)]\n",
    "        y = M_ @ ctrue\n",
    "        sol = np.linalg.lstsq(MTM, y, rcond=None)\n",
    "        chat = np.zeros_like(ctrue, dtype=float)\n",
    "        chat[obs_set] = sol[0]\n",
    "        res['chat'].append(chat) \n",
    "        res['errs'].append(np.linalg.norm(M@(chat_true - chat)))\n",
    "        \n",
    "        try: \n",
    "            Minv = pinv(MTM)\n",
    "            res['MTMinv_norm'].append(norm(Minv,ord=2))\n",
    "            res['A_norm'].append(norm(Minv @ MTU, ord=2))\n",
    "\n",
    "        except np.linalg.LinAlgError:\n",
    "            res['MTMinv_norm'].append(np.nan)\n",
    "            res['A_norm'].append(np.nan)\n",
    "\n",
    "        Tx = sample[:nstart+i+1]\n",
    "        res['runtime'].append(time.time() - start_time)\n",
    "    return res, sample"
   ]
  },
  {
   "cell_type": "code",
   "execution_count": null,
   "metadata": {},
   "outputs": [],
   "source": [
    "# Chebyshev nodes\n",
    "output = run_simulation_nodes_incremental(max_samples, nstart=nstart)\n",
    "RESULTS_CHEB, points_cheb = [output[0]], output[1]\n"
   ]
  },
  {
   "cell_type": "code",
   "execution_count": null,
   "metadata": {},
   "outputs": [],
   "source": [
    "from optimal_design_sub_mod import run_simulation_greedy_sub_mod\n",
    "output = run_simulation_greedy_sub_mod(M, obs_set, ctrue, nstart, max_samples, \"A\")\n",
    "RESULTS_OD_SUB_MOD_A, points_od_sub_mod_A = [output[0]], output[1]"
   ]
  },
  {
   "cell_type": "code",
   "execution_count": null,
   "metadata": {},
   "outputs": [],
   "source": [
    "output = run_simulation_greedy_sub_mod(M, obs_set, ctrue, nstart, max_samples, \"V\")\n",
    "RESULTS_OD_SUB_MOD_V, points_od_sub_mod_V = [output[0]], output[1]\n"
   ]
  },
  {
   "cell_type": "code",
   "execution_count": null,
   "metadata": {},
   "outputs": [],
   "source": [
    "nsims = 10"
   ]
  },
  {
   "cell_type": "code",
   "execution_count": null,
   "metadata": {},
   "outputs": [],
   "source": [
    "RESULTS_RAND = []\n",
    "for j in tqdm(range(nsims), total=nsims):\n",
    "    rand_state = np.random.RandomState(45+j)\n",
    "    samples = np.arange(X.size)\n",
    "    rand_state.shuffle(samples)\n",
    "    samples = samples[:max_samples]\n",
    "    RESULTS_RAND.append(run_simulation(samples, nstart=nstart))\n",
    "points_rand = M[:,1][samples]"
   ]
  },
  {
   "cell_type": "code",
   "execution_count": null,
   "metadata": {},
   "outputs": [],
   "source": [
    "Qs, _ = np.linalg.qr(M[:,obs_set])\n",
    "poly_ls_probs_s = np.linalg.norm(Qs, axis=1)**2.\n",
    "print(poly_ls_probs_s.max(), poly_ls_probs_s.min(), poly_ls_probs_s.sum())\n",
    "poly_ls_probs_s /= poly_ls_probs_s.sum()\n",
    "\n",
    "RESULTS_LS = []\n",
    "RESULTS_LS_UNWEIGHTED = []\n",
    "for j in tqdm(range(nsims), total=nsims):\n",
    "    rand_state = np.random.RandomState(45+j)\n",
    "    poly_ls_samples_s = rand_state.choice(X.size, max_samples, p=poly_ls_probs_s)\n",
    "    poly_ls_probs_s_on_samples = poly_ls_probs_s[poly_ls_samples_s]\n",
    "    RESULTS_LS.append(run_simulation(poly_ls_samples_s, poly_ls_probs_s_on_samples, nstart=nstart))\n",
    "    RESULTS_LS_UNWEIGHTED.append(run_simulation(poly_ls_samples_s, nstart=nstart))\n",
    "\n",
    "points_ls = M[:,1][poly_ls_samples_s]"
   ]
  },
  {
   "cell_type": "code",
   "execution_count": null,
   "metadata": {},
   "outputs": [],
   "source": [
    "np.sum(poly_ls_probs_s)"
   ]
  },
  {
   "cell_type": "code",
   "execution_count": null,
   "metadata": {},
   "outputs": [],
   "source": [
    "plt.plot(X, poly_ls_probs_s)"
   ]
  },
  {
   "cell_type": "code",
   "execution_count": null,
   "metadata": {},
   "outputs": [],
   "source": []
  },
  {
   "cell_type": "code",
   "execution_count": null,
   "metadata": {},
   "outputs": [],
   "source": [
    "save = True\n",
    "\n",
    "\n",
    "keys = ['errs', 'MTMinv_norm', 'runtime']\n",
    "for key in keys:\n",
    "    if key == 'errs':\n",
    "        ylabel = r\"Error, $\\|\\hat{f}_{\\mathcal{T}} - f\\|_2$\" \n",
    "    elif key == 'A_norm':\n",
    "        ylabel = r\"$\\|A\\|$\"\n",
    "    elif key == 'MTMinv_norm':\n",
    "        ylabel = r\"$\\|M_{\\mathcal{TM}}^\\dagger\\|$\"\n",
    "    elif key == 'runtime':\n",
    "        ylabel = 'Time (s)'\n",
    "\n",
    "    savename = f\"{key.lower()}_rough_snap.png\"\n",
    "    fig, ax = plt.subplots()\n",
    "    for results, name in zip([RESULTS_RAND, RESULTS_LS, RESULTS_CHEB, RESULTS_OD_SUB_MOD_V, RESULTS_OD_SUB_MOD_A], \n",
    "                             ['Random', 'Leverage Score', 'Chebyshev Nodes', 'Greedy Sub Modular OD V', 'Greedy Sub Modular OD A']):\n",
    "        metric = np.array([res[key] for res in results])\n",
    "        if key != 'runtime':\n",
    "            metric /= X.size \n",
    "            \n",
    "        mean = metric.mean(axis=0)\n",
    "\n",
    "        line = ax.loglog(np.arange(nstart, max_samples+1), mean, label=name)[0]\n",
    "\n",
    "\n",
    "\n",
    "    ax.legend(title='Sampling Method', fontsize=11)\n",
    "    ax.set_xlabel(r\"Size of Training Set, $\\mathcal{T}$\", fontsize=15)\n",
    "    ax.set_ylabel(ylabel, fontsize=15)\n",
    "    if save:\n",
    "        plt.savefig(savename, dpi=250, format='png')"
   ]
  },
  {
   "cell_type": "code",
   "execution_count": null,
   "metadata": {},
   "outputs": [],
   "source": [
    "RESULTS_LS[2]['runtime']"
   ]
  },
  {
   "cell_type": "code",
   "execution_count": null,
   "metadata": {},
   "outputs": [],
   "source": [
    "colors = ['red', 'green', 'purple', 'orange','pink', 'black']"
   ]
  },
  {
   "cell_type": "code",
   "execution_count": null,
   "metadata": {},
   "outputs": [],
   "source": [
    "methods = [RESULTS_RAND, RESULTS_LS, RESULTS_CHEB, RESULTS_OD_SUB_MOD_V, RESULTS_OD_SUB_MOD_A]\n",
    "names = ['Random', 'Leverage Score', 'Chebyshev Nodes', 'OD Sub Modular V', 'OD Sub Modular A']\n",
    "\n",
    "\n",
    "fig, axes = plt.subplots(len(methods), 1, figsize=(8, 15), sharex=True)\n",
    "\n",
    "for ax, method, name, color in zip(axes, methods, names, colors):\n",
    "    ax.plot(X, M @ method[0]['chat'][95], label=name, color=color, alpha=0.6)\n",
    "    ax.plot(X, M @ ctrue, label='True function', color='blue', alpha=0.8)\n",
    "    ax.set_title(f\"{name} vs. True Function at 100 Sampled Points\")\n",
    "\n",
    "    ax.legend()\n",
    "\n",
    "plt.tight_layout()\n",
    "plt.savefig('chat_at_100.png')"
   ]
  },
  {
   "cell_type": "code",
   "execution_count": null,
   "metadata": {},
   "outputs": [],
   "source": [
    "fig, ax = plt.subplots()\n",
    "ax.plot(X, M@RESULTS_CHEB[0]['chat'][99], label='Greedy Sub Mod', color='red', alpha=0.4)\n",
    "ax.plot(X, M@ctrue,marker='.',label='True function', color='blue', alpha=0.4)\n",
    "plt.title(\"Estimated Function vs. True Function at 100 Sampled Points\")\n",
    "plt.legend()\n",
    "plt.show()"
   ]
  },
  {
   "cell_type": "code",
   "execution_count": null,
   "metadata": {},
   "outputs": [],
   "source": [
    "# collect cumulative runtime data at each value of k\n",
    "runtimes = {'Continuous Relaxation'}"
   ]
  },
  {
   "cell_type": "code",
   "execution_count": null,
   "metadata": {},
   "outputs": [],
   "source": [
    "fig, axes = plt.subplots(4, 1, figsize=(8, 2.5*4), sharex=True)\n",
    "for i, dist, name, color in zip(np.arange(len(distributions)), distributions, names, colors):\n",
    "    axes[i].hist(dist, bins=75, range=(-1,1), color=color, alpha=0.7, label=name)\n",
    "    axes[i].set_ylabel(\"Count\")\n",
    "    axes[i].grid(alpha=0.3)\n",
    "\n",
    "axes[-1].set_xlabel(\"Value\")\n",
    "plt.suptitle(\"Histograms of Each Distribution\", fontsize=14)\n",
    "\n",
    "plt.tight_layout()\n",
    "fig.legend(\n",
    "    loc=\"lower center\",  \n",
    "    bbox_to_anchor=(0.5, 0.12),         \n",
    "    title=\"Distributions\"\n",
    ")\n",
    "plt.savefig('final_point_distributions.png')"
   ]
  }
 ],
 "metadata": {
  "kernelspec": {
   "display_name": "base",
   "language": "python",
   "name": "python3"
  },
  "language_info": {
   "codemirror_mode": {
    "name": "ipython",
    "version": 3
   },
   "file_extension": ".py",
   "mimetype": "text/x-python",
   "name": "python",
   "nbconvert_exporter": "python",
   "pygments_lexer": "ipython3",
   "version": "3.12.11"
  }
 },
 "nbformat": 4,
 "nbformat_minor": 2
}
